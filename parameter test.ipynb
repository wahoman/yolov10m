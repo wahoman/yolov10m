{
 "cells": [
  {
   "cell_type": "code",
   "execution_count": 1,
   "metadata": {},
   "outputs": [
    {
     "name": "stdout",
     "output_type": "stream",
     "text": [
      "Downloading https://github.com/ultralytics/assets/releases/download/v8.2.0/yolov8m-seg.pt to 'yolov8m-seg.pt'...\n"
     ]
    },
    {
     "name": "stderr",
     "output_type": "stream",
     "text": [
      "100%|██████████| 52.4M/52.4M [00:04<00:00, 12.9MB/s]\n"
     ]
    }
   ],
   "source": [
    "# yolov8 seg모델 다운\n",
    "# https://docs.ultralytics.com/ko/tasks/segment/#models\n",
    "\n",
    "from ultralytics import YOLO\n",
    "\n",
    "model = YOLO('yolov8m-seg.pt')  "
   ]
  },
  {
   "cell_type": "code",
   "execution_count": 3,
   "metadata": {},
   "outputs": [
    {
     "name": "stdout",
     "output_type": "stream",
     "text": [
      "  0%|          | 0/50 [00:00<?, ?trial/s, best loss=?]New https://pypi.org/project/ultralytics/8.2.48 available  Update with 'pip install -U ultralytics'\n",
      "Ultralytics YOLOv8.2.31  Python-3.11.8 torch-2.3.1+cu121 CUDA:0 (NVIDIA GeForce RTX 3080, 10240MiB)\n",
      "\u001b[34m\u001b[1mengine\\trainer: \u001b[0mtask=segment, mode=train, model=yolov8m-seg.pt, data=C:/Users/SSTLabs/Desktop/test2/SSTLabs-2-5/data.yaml, epochs=10, time=None, patience=100, batch=32, imgsz=640, save=True, save_period=-1, cache=False, device=None, workers=8, project=None, name=train3, exist_ok=False, pretrained=True, optimizer=SGD, verbose=True, seed=0, deterministic=True, single_cls=False, rect=False, cos_lr=False, close_mosaic=10, resume=False, amp=True, fraction=1.0, profile=False, freeze=None, multi_scale=False, overlap_mask=True, mask_ratio=4, dropout=0.0, val=True, split=val, save_json=False, save_hybrid=False, conf=None, iou=0.7, max_det=300, half=False, dnn=False, plots=True, source=None, vid_stride=1, stream_buffer=False, visualize=False, augment=False, agnostic_nms=False, classes=None, retina_masks=False, embed=None, show=False, save_frames=False, save_txt=False, save_conf=False, save_crop=False, show_labels=True, show_conf=True, show_boxes=True, line_width=None, format=torchscript, keras=False, optimize=False, int8=False, dynamic=False, simplify=False, opset=None, workspace=4, nms=False, lr0=0.006116958284391689, lrf=0.00830749023416222, momentum=0.921283230661808, weight_decay=0.0006425365859054679, warmup_epochs=3.0, warmup_momentum=0.8, warmup_bias_lr=0.1, box=7.5, cls=0.5, dfl=1.5, pose=12.0, kobj=1.0, label_smoothing=0.0, nbs=64, hsv_h=0.015, hsv_s=0.7, hsv_v=0.4, degrees=0.0, translate=0.1, scale=0.5, shear=0.0, perspective=0.0, flipud=0.0, fliplr=0.5, bgr=0.0, mosaic=1.0, mixup=0.0, copy_paste=0.0, auto_augment=randaugment, erasing=0.4, crop_fraction=1.0, cfg=None, tracker=botsort.yaml, save_dir=runs\\segment\\train3\n",
      "Overriding model.yaml nc=80 with nc=6\n",
      "\n",
      "                   from  n    params  module                                       arguments                     \n",
      "  0                  -1  1      1392  ultralytics.nn.modules.conv.Conv             [3, 48, 3, 2]                 \n",
      "  1                  -1  1     41664  ultralytics.nn.modules.conv.Conv             [48, 96, 3, 2]                \n",
      "  2                  -1  2    111360  ultralytics.nn.modules.block.C2f             [96, 96, 2, True]             \n",
      "  3                  -1  1    166272  ultralytics.nn.modules.conv.Conv             [96, 192, 3, 2]               \n",
      "  4                  -1  4    813312  ultralytics.nn.modules.block.C2f             [192, 192, 4, True]           \n",
      "  5                  -1  1    664320  ultralytics.nn.modules.conv.Conv             [192, 384, 3, 2]              \n",
      "  6                  -1  4   3248640  ultralytics.nn.modules.block.C2f             [384, 384, 4, True]           \n",
      "  7                  -1  1   1991808  ultralytics.nn.modules.conv.Conv             [384, 576, 3, 2]              \n",
      "  8                  -1  2   3985920  ultralytics.nn.modules.block.C2f             [576, 576, 2, True]           \n",
      "  9                  -1  1    831168  ultralytics.nn.modules.block.SPPF            [576, 576, 5]                 \n",
      " 10                  -1  1         0  torch.nn.modules.upsampling.Upsample         [None, 2, 'nearest']          \n",
      " 11             [-1, 6]  1         0  ultralytics.nn.modules.conv.Concat           [1]                           \n",
      " 12                  -1  2   1993728  ultralytics.nn.modules.block.C2f             [960, 384, 2]                 \n",
      " 13                  -1  1         0  torch.nn.modules.upsampling.Upsample         [None, 2, 'nearest']          \n",
      " 14             [-1, 4]  1         0  ultralytics.nn.modules.conv.Concat           [1]                           \n",
      " 15                  -1  2    517632  ultralytics.nn.modules.block.C2f             [576, 192, 2]                 \n",
      " 16                  -1  1    332160  ultralytics.nn.modules.conv.Conv             [192, 192, 3, 2]              \n",
      " 17            [-1, 12]  1         0  ultralytics.nn.modules.conv.Concat           [1]                           \n",
      " 18                  -1  2   1846272  ultralytics.nn.modules.block.C2f             [576, 384, 2]                 \n",
      " 19                  -1  1   1327872  ultralytics.nn.modules.conv.Conv             [384, 384, 3, 2]              \n",
      " 20             [-1, 9]  1         0  ultralytics.nn.modules.conv.Concat           [1]                           \n",
      " 21                  -1  2   4207104  ultralytics.nn.modules.block.C2f             [960, 576, 2]                 \n",
      " 22        [15, 18, 21]  1   5162498  ultralytics.nn.modules.head.Segment          [6, 32, 192, [192, 384, 576]] \n",
      "YOLOv8m-seg summary: 331 layers, 27243122 parameters, 27243106 gradients, 110.4 GFLOPs\n",
      "\n",
      "Transferred 531/537 items from pretrained weights\n",
      "Freezing layer 'model.22.dfl.conv.weight'\n",
      "\u001b[34m\u001b[1mAMP: \u001b[0mrunning Automatic Mixed Precision (AMP) checks with YOLOv8n...\n",
      "\u001b[34m\u001b[1mAMP: \u001b[0mchecks passed \n"
     ]
    },
    {
     "name": "stderr",
     "output_type": "stream",
     "text": [
      "\u001b[34m\u001b[1mtrain: \u001b[0mScanning C:\\Users\\SSTLabs\\Desktop\\test2\\SSTLabs-2-5\\train\\labels.cache... 7285 images, 3 backgrounds, 0 corrupt: 100%|##########| 7285/7285 [00:00<?, ?it/s]\n",
      "\u001b[34m\u001b[1mtrain: \u001b[0mScanning C:\\Users\\SSTLabs\\Desktop\\test2\\SSTLabs-2-5\\train\\labels.cache... 7285 images, 3 backgrounds, 0 corrupt: 100%|##########| 7285/7285 [00:00<?, ?it/s]\n",
      "\u001b[34m\u001b[1mval: \u001b[0mScanning C:\\Users\\SSTLabs\\Desktop\\test2\\SSTLabs-2-5\\valid\\labels.cache... 734 images, 0 backgrounds, 0 corrupt: 100%|##########| 734/734 [00:00<?, ?it/s]\n",
      "\u001b[34m\u001b[1mval: \u001b[0mScanning C:\\Users\\SSTLabs\\Desktop\\test2\\SSTLabs-2-5\\valid\\labels.cache... 734 images, 0 backgrounds, 0 corrupt: 100%|##########| 734/734 [00:00<?, ?it/s]\n"
     ]
    },
    {
     "name": "stdout",
     "output_type": "stream",
     "text": [
      "Plotting labels to runs\\segment\\train3\\labels.jpg... \n",
      "\u001b[34m\u001b[1moptimizer:\u001b[0m SGD(lr=0.006116958284391689, momentum=0.921283230661808) with parameter groups 86 weight(decay=0.0), 97 weight(decay=0.0006425365859054679), 96 bias(decay=0.0)\n",
      "Image sizes 640 train, 640 val\n",
      "Using 8 dataloader workers\n",
      "Logging results to \u001b[1mruns\\segment\\train3\u001b[0m\n",
      "Starting training for 10 epochs...\n",
      "Closing dataloader mosaic\n"
     ]
    }
   ],
   "source": [
    "from hyperopt import fmin, tpe, hp, Trials, STATUS_OK\n",
    "from ultralytics import YOLO\n",
    "import numpy as np\n",
    "import json\n",
    "\n",
    "# 목표 함수 정의\n",
    "def objective(params):\n",
    "    model = YOLO('yolov8m-seg.pt')\n",
    "    \n",
    "    # 모델 훈련\n",
    "    model.train(data=\"/data.yaml\", \n",
    "                epochs=10,  # 초기 탐색을 위한 적당한 에폭 수 설정\n",
    "                batch=16, \n",
    "                lr0=params['lr0'], \n",
    "                lrf=params['lrf'], \n",
    "                momentum=params['momentum'], \n",
    "                weight_decay=params['weight_decay'], \n",
    "                optimizer=params['optimizer']\n",
    "               )\n",
    "    \n",
    "    # 모델 평가\n",
    "    results = model.val(data=\"data.yaml\")\n",
    "    \n",
    "    # 원하는 평가 지표 선택 (예: mAP@50)\n",
    "    map50 = results.box.map50\n",
    "    \n",
    "    return {'loss': -map50, 'status': STATUS_OK}\n",
    "\n",
    "# 검색 공간 설정\n",
    "space = {\n",
    "    'lr0': hp.loguniform('lr0', np.log(0.001), np.log(0.02)),  # 기존 최적 값 0.01을 중심으로 범위 설정\n",
    "    'lrf': hp.uniform('lrf', 0.005, 0.015),  # 기존 최적 값 0.01을 중심으로 범위 설정\n",
    "    'momentum': hp.uniform('momentum', 0.9, 0.99),  # 기존 최적 값 0.937을 중심으로 범위 설정\n",
    "    'weight_decay': hp.loguniform('weight_decay', np.log(0.0001), np.log(0.001)),  # 기존 최적 값 0.0005을 중심으로 범위 설정\n",
    "    'optimizer': hp.choice('optimizer', ['SGD', 'Adam'])\n",
    "}\n",
    "\n",
    "# 최적화 수행\n",
    "trials = Trials()\n",
    "best = fmin(fn=objective, space=space, algo=tpe.suggest, max_evals=50, trials=trials)\n",
    "\n",
    "# 최적 하이퍼파라미터 출력\n",
    "print(\"Best hyperparameters found:\")\n",
    "print(best)\n",
    "\n",
    "# 최적 하이퍼파라미터를 JSON 파일로 저장\n",
    "output_path = \"best_hyperparameters.json\"\n",
    "with open(output_path, 'w') as f:\n",
    "    json.dump(best, f, indent=4)\n",
    "\n",
    "print(f\"Best hyperparameters have been saved to {output_path}\")\n"
   ]
  }
 ],
 "metadata": {
  "kernelspec": {
   "display_name": "yolov10",
   "language": "python",
   "name": "python3"
  },
  "language_info": {
   "codemirror_mode": {
    "name": "ipython",
    "version": 3
   },
   "file_extension": ".py",
   "mimetype": "text/x-python",
   "name": "python",
   "nbconvert_exporter": "python",
   "pygments_lexer": "ipython3",
   "version": "3.11.8"
  }
 },
 "nbformat": 4,
 "nbformat_minor": 2
}
