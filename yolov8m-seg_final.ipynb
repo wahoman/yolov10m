{
 "cells": [
  {
   "cell_type": "markdown",
   "metadata": {},
   "source": [
    "가상환경 만들기 (파이썬 버전 3.11.8)\n",
    "\n",
    "conda create -n (가상환경이름) python=3.11.8"
   ]
  },
  {
   "cell_type": "code",
   "execution_count": null,
   "metadata": {},
   "outputs": [],
   "source": [
    "#roboflow 에서 라벨링한 데이터 불러오기 \n",
    "\n",
    "from roboflow import Roboflow\n",
    "rf = Roboflow(api_key=\"\")\n",
    "project = rf.workspace(\"wahoman-fmp8j\").project(\"test-8cpfh\")\n",
    "version = project.version(2)\n",
    "dataset = version.download(\"yolov8\")\n"
   ]
  },
  {
   "cell_type": "markdown",
   "metadata": {},
   "source": [
    "ultralytics 오류 날 떄 \n",
    "\n",
    "!pip install --upgrade ultralytics supervision"
   ]
  },
  {
   "cell_type": "code",
   "execution_count": null,
   "metadata": {},
   "outputs": [],
   "source": [
    "# yolov8 seg모델 다운\n",
    "# https://docs.ultralytics.com/ko/tasks/segment/#models\n",
    "\n",
    "from ultralytics import YOLO\n",
    "\n",
    "model = YOLO('yolov8m-seg.pt')  "
   ]
  },
  {
   "cell_type": "markdown",
   "metadata": {},
   "source": [
    "Batch size"
   ]
  },
  {
   "cell_type": "markdown",
   "metadata": {},
   "source": [
    "Batch Size는 한 번에 학습에 사용하는 데이터 샘플의 수를 의미합니다. \n",
    "\n",
    "만약에 여러분이 1,000장의 고양이 사진을 사용하여 인공지능 모델을 학습시키려고 합니다.\n",
    "Batch size가 100이라면, 1,000장의 사진을 한 번에 학습시키는 것이 아니라 100장씩 묶어서 10번에 걸쳐 학습시킵니다.\n",
    "\n",
    "왜 Batch Size가 중요한가요?\n",
    "작은 Batch Size: 더 자주 모델을 업데이트하여 학습할 수 있지만, 한 번 업데이트할 때 사용하는 데이터가 적어서 모델의 학습이 불안정할 수 있습니다.\n",
    "큰 Batch Size: 모델 업데이트가 더 안정적일 수 있지만, 메모리를 많이 사용하고 한 번 업데이트할 때까지 시간이 더 오래 걸립니다.\n"
   ]
  },
  {
   "cell_type": "markdown",
   "metadata": {},
   "source": [
    "Patience"
   ]
  },
  {
   "cell_type": "markdown",
   "metadata": {},
   "source": [
    "Patience는 학습 과정에서 모델의 성능이 개선되지 않더라도 얼마나 기다릴지를 결정하는 인내심을 의미합니다.\n",
    "\n",
    "모델을 학습시키다가 어느 순간부터 성능이 더 이상 개선되지 않는 시점이 올 수 있습니다.\n",
    "\n",
    "이때 patience 값이 3이라면, 성능이 개선되지 않는 에포크(epoch)가 3번 연속 발생할 때까지 기다렸다가, 그래도 개선이 없으면 학습을 중단합니다."
   ]
  },
  {
   "cell_type": "code",
   "execution_count": null,
   "metadata": {},
   "outputs": [],
   "source": [
    "#yaml 파일 경로수정\n",
    "#yaml 파일 내부의 test, train, valid 경로 수정\n",
    "\n",
    "model.train(data='data.yaml', epochs=1, patience=30, batch=8)"
   ]
  },
  {
   "cell_type": "markdown",
   "metadata": {},
   "source": [
    "gpu로 학습 안될 때. torch 깔았는지 확인. "
   ]
  },
  {
   "cell_type": "code",
   "execution_count": null,
   "metadata": {},
   "outputs": [],
   "source": [
    "#모델 학습이 끝났고, 임의의 사진으로 성능을 테스트 해보고 싶을 떄.\n",
    "\n",
    "from ultralytics import YOLO\n",
    "import cv2\n",
    "\n",
    "# 모델 로드\n",
    "model = YOLO('best.pt')  # 학습된 모델 경로\n",
    "\n",
    "# 이미지 로드\n",
    "image_path = 'images'  # 예측할 이미지가 있는 폴더 경로\n",
    "output_path = 'predicted_images'  # 예측 결과를 저장할 폴더 경로\n",
    "\n",
    "# 예측 수행\n",
    "results = model.predict(image_path)\n",
    "\n",
    "# 각 결과를 개별 파일로 저장\n",
    "for i, result in enumerate(results):\n",
    "    # result.plot()은 이미지를 반환하므로, 이를 개별 파일로 저장\n",
    "    result_image = result.plot()\n",
    "    cv2.imwrite(f'{output_path}/pred_{i}.png', result_image)\n"
   ]
  }
 ],
 "metadata": {
  "kernelspec": {
   "display_name": "yolov10",
   "language": "python",
   "name": "python3"
  },
  "language_info": {
   "name": "python",
   "version": "3.9.19"
  }
 },
 "nbformat": 4,
 "nbformat_minor": 2
}
